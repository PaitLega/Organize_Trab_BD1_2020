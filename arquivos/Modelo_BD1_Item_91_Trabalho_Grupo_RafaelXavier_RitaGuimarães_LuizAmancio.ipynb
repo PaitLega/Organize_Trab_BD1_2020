{
  "nbformat": 4,
  "nbformat_minor": 0,
  "metadata": {
    "colab": {
      "name": "Modelo_BD1_Item_91_Trabalho_Grupo_RafaelXavier_RitaGuimarães_LuizAmancio",
      "provenance": [],
      "collapsed_sections": []
    },
    "kernelspec": {
      "name": "python3",
      "display_name": "Python 3"
    }
  },
  "cells": [
    {
      "cell_type": "markdown",
      "metadata": {
        "id": "TS0oi3Wep8IP",
        "colab_type": "text"
      },
      "source": [
        "# Importando bibliotecas e realizando configurações "
      ]
    },
    {
      "cell_type": "code",
      "metadata": {
        "id": "qJD6SHpDgNzo",
        "colab_type": "code",
        "colab": {}
      },
      "source": [
        "import psycopg2\n",
        "import pandas as pd\n",
        "conn = psycopg2.connect(host=\"ruby.db.elephantsql.com\",database =\"zbhwctjp\",user =\"zbhwctjp\", password =\"KpKFW6sP3irBObgJf_YJtiCTqyfd-VA2\")"
      ],
      "execution_count": null,
      "outputs": []
    },
    {
      "cell_type": "markdown",
      "metadata": {
        "id": "jqSLiFw-qOMa",
        "colab_type": "text"
      },
      "source": [
        "# Modelo Conceitual"
      ]
    },
    {
      "cell_type": "markdown",
      "metadata": {
        "id": "tai5xb10cImM",
        "colab_type": "text"
      },
      "source": [
        "<img src='https://github.com/RafaelXavierBraga/Organize_Trab_BD1_2020/blob/master/images/bd_modeloconceitual.png'/>"
      ]
    },
    {
      "cell_type": "markdown",
      "metadata": {
        "id": "AQkR2605qS6Y",
        "colab_type": "text"
      },
      "source": [
        "# 9.1 CONSULTAS DAS TABELAS COM TODOS OS DADOS INSERIDOS(Todas)"
      ]
    },
    {
      "cell_type": "code",
      "metadata": {
        "id": "lUwSsZJAcZqA",
        "colab_type": "code",
        "colab": {
          "base_uri": "https://localhost:8080/",
          "height": 173
        },
        "outputId": "6ed0ac48-f90d-4388-bb0a-941808cd5d7a"
      },
      "source": [
        "pd.read_sql_query(\"select * from pessoa\",conn)"
      ],
      "execution_count": null,
      "outputs": [
        {
          "output_type": "execute_result",
          "data": {
            "text/html": [
              "<div>\n",
              "<style scoped>\n",
              "    .dataframe tbody tr th:only-of-type {\n",
              "        vertical-align: middle;\n",
              "    }\n",
              "\n",
              "    .dataframe tbody tr th {\n",
              "        vertical-align: top;\n",
              "    }\n",
              "\n",
              "    .dataframe thead th {\n",
              "        text-align: right;\n",
              "    }\n",
              "</style>\n",
              "<table border=\"1\" class=\"dataframe\">\n",
              "  <thead>\n",
              "    <tr style=\"text-align: right;\">\n",
              "      <th></th>\n",
              "      <th>cpf</th>\n",
              "      <th>nome</th>\n",
              "      <th>data_nascimento</th>\n",
              "      <th>senha</th>\n",
              "    </tr>\n",
              "  </thead>\n",
              "  <tbody>\n",
              "    <tr>\n",
              "      <th>0</th>\n",
              "      <td>10104361234</td>\n",
              "      <td>Ana Gomes</td>\n",
              "      <td>1995-01-11</td>\n",
              "      <td>123456</td>\n",
              "    </tr>\n",
              "    <tr>\n",
              "      <th>1</th>\n",
              "      <td>12945630790</td>\n",
              "      <td>Sofia Salles</td>\n",
              "      <td>2000-04-22</td>\n",
              "      <td>675893</td>\n",
              "    </tr>\n",
              "    <tr>\n",
              "      <th>2</th>\n",
              "      <td>47345893011</td>\n",
              "      <td>Fabio Nunes</td>\n",
              "      <td>1998-10-30</td>\n",
              "      <td>174524</td>\n",
              "    </tr>\n",
              "    <tr>\n",
              "      <th>3</th>\n",
              "      <td>58457731459</td>\n",
              "      <td>João Almeida</td>\n",
              "      <td>1970-07-15</td>\n",
              "      <td>Joao123</td>\n",
              "    </tr>\n",
              "  </tbody>\n",
              "</table>\n",
              "</div>"
            ],
            "text/plain": [
              "           cpf          nome data_nascimento    senha\n",
              "0  10104361234     Ana Gomes      1995-01-11   123456\n",
              "1  12945630790  Sofia Salles      2000-04-22   675893\n",
              "2  47345893011   Fabio Nunes      1998-10-30   174524\n",
              "3  58457731459  João Almeida      1970-07-15  Joao123"
            ]
          },
          "metadata": {
            "tags": []
          },
          "execution_count": 12
        }
      ]
    },
    {
      "cell_type": "code",
      "metadata": {
        "id": "fqgFRPgPcaTI",
        "colab_type": "code",
        "colab": {
          "base_uri": "https://localhost:8080/",
          "height": 173
        },
        "outputId": "c773282c-e599-498b-c906-10a81aa98c98"
      },
      "source": [
        "pd.read_sql_query(\"select * from endereco\",conn)"
      ],
      "execution_count": null,
      "outputs": [
        {
          "output_type": "execute_result",
          "data": {
            "text/html": [
              "<div>\n",
              "<style scoped>\n",
              "    .dataframe tbody tr th:only-of-type {\n",
              "        vertical-align: middle;\n",
              "    }\n",
              "\n",
              "    .dataframe tbody tr th {\n",
              "        vertical-align: top;\n",
              "    }\n",
              "\n",
              "    .dataframe thead th {\n",
              "        text-align: right;\n",
              "    }\n",
              "</style>\n",
              "<table border=\"1\" class=\"dataframe\">\n",
              "  <thead>\n",
              "    <tr style=\"text-align: right;\">\n",
              "      <th></th>\n",
              "      <th>cpf_pessoa</th>\n",
              "      <th>logradouro</th>\n",
              "      <th>descricao_logradouro</th>\n",
              "      <th>numero</th>\n",
              "      <th>bairro</th>\n",
              "      <th>municipio</th>\n",
              "      <th>cep</th>\n",
              "      <th>estado</th>\n",
              "    </tr>\n",
              "  </thead>\n",
              "  <tbody>\n",
              "    <tr>\n",
              "      <th>0</th>\n",
              "      <td>10104361234</td>\n",
              "      <td>Rua</td>\n",
              "      <td>Sabino Alves</td>\n",
              "      <td>1122</td>\n",
              "      <td>Feu Rosa</td>\n",
              "      <td>Serra</td>\n",
              "      <td>29100200</td>\n",
              "      <td>ES</td>\n",
              "    </tr>\n",
              "    <tr>\n",
              "      <th>1</th>\n",
              "      <td>12945630790</td>\n",
              "      <td>Avenida</td>\n",
              "      <td>Pedro Nolasco</td>\n",
              "      <td>1123</td>\n",
              "      <td>Colina da Serra</td>\n",
              "      <td>Serra</td>\n",
              "      <td>29100201</td>\n",
              "      <td>ES</td>\n",
              "    </tr>\n",
              "    <tr>\n",
              "      <th>2</th>\n",
              "      <td>47345893011</td>\n",
              "      <td>Rua</td>\n",
              "      <td>Beija Flor</td>\n",
              "      <td>67</td>\n",
              "      <td>Laranjeiras</td>\n",
              "      <td>São Paulo</td>\n",
              "      <td>29100202</td>\n",
              "      <td>SP</td>\n",
              "    </tr>\n",
              "    <tr>\n",
              "      <th>3</th>\n",
              "      <td>58457731459</td>\n",
              "      <td>Rua</td>\n",
              "      <td>Herman Stern</td>\n",
              "      <td>235</td>\n",
              "      <td>Jacaraipe</td>\n",
              "      <td>Serra</td>\n",
              "      <td>29100203</td>\n",
              "      <td>ES</td>\n",
              "    </tr>\n",
              "  </tbody>\n",
              "</table>\n",
              "</div>"
            ],
            "text/plain": [
              "    cpf_pessoa logradouro descricao_logradouro  ...  municipio       cep estado\n",
              "0  10104361234        Rua         Sabino Alves  ...      Serra  29100200     ES\n",
              "1  12945630790    Avenida        Pedro Nolasco  ...      Serra  29100201     ES\n",
              "2  47345893011        Rua           Beija Flor  ...  São Paulo  29100202     SP\n",
              "3  58457731459        Rua         Herman Stern  ...      Serra  29100203     ES\n",
              "\n",
              "[4 rows x 8 columns]"
            ]
          },
          "metadata": {
            "tags": []
          },
          "execution_count": 13
        }
      ]
    },
    {
      "cell_type": "code",
      "metadata": {
        "id": "UUOA0v0ycawu",
        "colab_type": "code",
        "colab": {
          "base_uri": "https://localhost:8080/",
          "height": 204
        },
        "outputId": "eed7cb8a-28dc-48ec-8da3-2b4a717b4637"
      },
      "source": [
        "pd.read_sql_query(\"select * from tipo\",conn)"
      ],
      "execution_count": null,
      "outputs": [
        {
          "output_type": "execute_result",
          "data": {
            "text/html": [
              "<div>\n",
              "<style scoped>\n",
              "    .dataframe tbody tr th:only-of-type {\n",
              "        vertical-align: middle;\n",
              "    }\n",
              "\n",
              "    .dataframe tbody tr th {\n",
              "        vertical-align: top;\n",
              "    }\n",
              "\n",
              "    .dataframe thead th {\n",
              "        text-align: right;\n",
              "    }\n",
              "</style>\n",
              "<table border=\"1\" class=\"dataframe\">\n",
              "  <thead>\n",
              "    <tr style=\"text-align: right;\">\n",
              "      <th></th>\n",
              "      <th>cod_tipo</th>\n",
              "      <th>descricao_tipo</th>\n",
              "    </tr>\n",
              "  </thead>\n",
              "  <tbody>\n",
              "    <tr>\n",
              "      <th>0</th>\n",
              "      <td>1</td>\n",
              "      <td>Saque</td>\n",
              "    </tr>\n",
              "    <tr>\n",
              "      <th>1</th>\n",
              "      <td>2</td>\n",
              "      <td>Despesa</td>\n",
              "    </tr>\n",
              "    <tr>\n",
              "      <th>2</th>\n",
              "      <td>3</td>\n",
              "      <td>Investimento</td>\n",
              "    </tr>\n",
              "    <tr>\n",
              "      <th>3</th>\n",
              "      <td>4</td>\n",
              "      <td>Receita</td>\n",
              "    </tr>\n",
              "    <tr>\n",
              "      <th>4</th>\n",
              "      <td>5</td>\n",
              "      <td>Depósito</td>\n",
              "    </tr>\n",
              "  </tbody>\n",
              "</table>\n",
              "</div>"
            ],
            "text/plain": [
              "   cod_tipo descricao_tipo\n",
              "0         1          Saque\n",
              "1         2        Despesa\n",
              "2         3   Investimento\n",
              "3         4        Receita\n",
              "4         5       Depósito"
            ]
          },
          "metadata": {
            "tags": []
          },
          "execution_count": 14
        }
      ]
    },
    {
      "cell_type": "code",
      "metadata": {
        "id": "HZX2y-kncbSC",
        "colab_type": "code",
        "colab": {
          "base_uri": "https://localhost:8080/",
          "height": 297
        },
        "outputId": "4ef4d306-7268-46e1-9e9f-67da9e2610f0"
      },
      "source": [
        "pd.read_sql_query(\"select * from transacao\",conn)"
      ],
      "execution_count": null,
      "outputs": [
        {
          "output_type": "execute_result",
          "data": {
            "text/html": [
              "<div>\n",
              "<style scoped>\n",
              "    .dataframe tbody tr th:only-of-type {\n",
              "        vertical-align: middle;\n",
              "    }\n",
              "\n",
              "    .dataframe tbody tr th {\n",
              "        vertical-align: top;\n",
              "    }\n",
              "\n",
              "    .dataframe thead th {\n",
              "        text-align: right;\n",
              "    }\n",
              "</style>\n",
              "<table border=\"1\" class=\"dataframe\">\n",
              "  <thead>\n",
              "    <tr style=\"text-align: right;\">\n",
              "      <th></th>\n",
              "      <th>cod_transacao</th>\n",
              "      <th>cpf_pessoa</th>\n",
              "      <th>tipo</th>\n",
              "      <th>descricao</th>\n",
              "      <th>data_operacao</th>\n",
              "      <th>valor</th>\n",
              "    </tr>\n",
              "  </thead>\n",
              "  <tbody>\n",
              "    <tr>\n",
              "      <th>0</th>\n",
              "      <td>1000</td>\n",
              "      <td>47345893011</td>\n",
              "      <td>4</td>\n",
              "      <td>salario</td>\n",
              "      <td>2020-07-01</td>\n",
              "      <td>14500.0</td>\n",
              "    </tr>\n",
              "    <tr>\n",
              "      <th>1</th>\n",
              "      <td>1102</td>\n",
              "      <td>10104361234</td>\n",
              "      <td>4</td>\n",
              "      <td>recebimento aluguel</td>\n",
              "      <td>2020-07-05</td>\n",
              "      <td>2224.0</td>\n",
              "    </tr>\n",
              "    <tr>\n",
              "      <th>2</th>\n",
              "      <td>1006</td>\n",
              "      <td>12945630790</td>\n",
              "      <td>2</td>\n",
              "      <td>pagamento IPVA</td>\n",
              "      <td>2020-07-08</td>\n",
              "      <td>803.0</td>\n",
              "    </tr>\n",
              "    <tr>\n",
              "      <th>3</th>\n",
              "      <td>1010</td>\n",
              "      <td>47345893011</td>\n",
              "      <td>2</td>\n",
              "      <td>pagamento cartao de crédito</td>\n",
              "      <td>2020-07-10</td>\n",
              "      <td>6125.0</td>\n",
              "    </tr>\n",
              "    <tr>\n",
              "      <th>4</th>\n",
              "      <td>1132</td>\n",
              "      <td>47345893011</td>\n",
              "      <td>3</td>\n",
              "      <td>tesouro direto</td>\n",
              "      <td>2020-01-11</td>\n",
              "      <td>5000.0</td>\n",
              "    </tr>\n",
              "    <tr>\n",
              "      <th>5</th>\n",
              "      <td>1360</td>\n",
              "      <td>47345893011</td>\n",
              "      <td>3</td>\n",
              "      <td>bolsa de valores</td>\n",
              "      <td>2020-06-11</td>\n",
              "      <td>3000.0</td>\n",
              "    </tr>\n",
              "    <tr>\n",
              "      <th>6</th>\n",
              "      <td>1456</td>\n",
              "      <td>58457731459</td>\n",
              "      <td>5</td>\n",
              "      <td>poupança Itaú</td>\n",
              "      <td>2020-07-14</td>\n",
              "      <td>2500.0</td>\n",
              "    </tr>\n",
              "    <tr>\n",
              "      <th>7</th>\n",
              "      <td>1589</td>\n",
              "      <td>12945630790</td>\n",
              "      <td>5</td>\n",
              "      <td>poupança Caixa</td>\n",
              "      <td>2020-07-15</td>\n",
              "      <td>1500.0</td>\n",
              "    </tr>\n",
              "  </tbody>\n",
              "</table>\n",
              "</div>"
            ],
            "text/plain": [
              "   cod_transacao   cpf_pessoa  ...  data_operacao    valor\n",
              "0           1000  47345893011  ...     2020-07-01  14500.0\n",
              "1           1102  10104361234  ...     2020-07-05   2224.0\n",
              "2           1006  12945630790  ...     2020-07-08    803.0\n",
              "3           1010  47345893011  ...     2020-07-10   6125.0\n",
              "4           1132  47345893011  ...     2020-01-11   5000.0\n",
              "5           1360  47345893011  ...     2020-06-11   3000.0\n",
              "6           1456  58457731459  ...     2020-07-14   2500.0\n",
              "7           1589  12945630790  ...     2020-07-15   1500.0\n",
              "\n",
              "[8 rows x 6 columns]"
            ]
          },
          "metadata": {
            "tags": []
          },
          "execution_count": 15
        }
      ]
    },
    {
      "cell_type": "code",
      "metadata": {
        "id": "Z03bps9Scbt0",
        "colab_type": "code",
        "colab": {
          "base_uri": "https://localhost:8080/",
          "height": 235
        },
        "outputId": "4576edb2-98c9-4395-916a-ee68b862dcb8"
      },
      "source": [
        "pd.read_sql_query(\"select * from contato\",conn)"
      ],
      "execution_count": null,
      "outputs": [
        {
          "output_type": "execute_result",
          "data": {
            "text/html": [
              "<div>\n",
              "<style scoped>\n",
              "    .dataframe tbody tr th:only-of-type {\n",
              "        vertical-align: middle;\n",
              "    }\n",
              "\n",
              "    .dataframe tbody tr th {\n",
              "        vertical-align: top;\n",
              "    }\n",
              "\n",
              "    .dataframe thead th {\n",
              "        text-align: right;\n",
              "    }\n",
              "</style>\n",
              "<table border=\"1\" class=\"dataframe\">\n",
              "  <thead>\n",
              "    <tr style=\"text-align: right;\">\n",
              "      <th></th>\n",
              "      <th>cpf_pessoa</th>\n",
              "      <th>contato</th>\n",
              "    </tr>\n",
              "  </thead>\n",
              "  <tbody>\n",
              "    <tr>\n",
              "      <th>0</th>\n",
              "      <td>10104361234</td>\n",
              "      <td>anagomes@gmail.com</td>\n",
              "    </tr>\n",
              "    <tr>\n",
              "      <th>1</th>\n",
              "      <td>10104361234</td>\n",
              "      <td>27997648129</td>\n",
              "    </tr>\n",
              "    <tr>\n",
              "      <th>2</th>\n",
              "      <td>47345893011</td>\n",
              "      <td>27998524459</td>\n",
              "    </tr>\n",
              "    <tr>\n",
              "      <th>3</th>\n",
              "      <td>47345893011</td>\n",
              "      <td>fNunes@gmail.com</td>\n",
              "    </tr>\n",
              "    <tr>\n",
              "      <th>4</th>\n",
              "      <td>12945630790</td>\n",
              "      <td>27998562473</td>\n",
              "    </tr>\n",
              "    <tr>\n",
              "      <th>5</th>\n",
              "      <td>58457731459</td>\n",
              "      <td>JAlmeida@gmail.com</td>\n",
              "    </tr>\n",
              "  </tbody>\n",
              "</table>\n",
              "</div>"
            ],
            "text/plain": [
              "    cpf_pessoa             contato\n",
              "0  10104361234  anagomes@gmail.com\n",
              "1  10104361234         27997648129\n",
              "2  47345893011         27998524459\n",
              "3  47345893011    fNunes@gmail.com\n",
              "4  12945630790         27998562473\n",
              "5  58457731459  JAlmeida@gmail.com"
            ]
          },
          "metadata": {
            "tags": []
          },
          "execution_count": 16
        }
      ]
    }
  ]
}